{
 "cells": [
  {
   "cell_type": "code",
   "execution_count": 1,
   "id": "6cb43178",
   "metadata": {},
   "outputs": [],
   "source": [
    "import pandas as pd\n",
    "from datetime import datetime, timedelta"
   ]
  },
  {
   "cell_type": "code",
   "execution_count": 2,
   "id": "8ee09048",
   "metadata": {},
   "outputs": [
    {
     "data": {
      "text/html": [
       "<div>\n",
       "<style scoped>\n",
       "    .dataframe tbody tr th:only-of-type {\n",
       "        vertical-align: middle;\n",
       "    }\n",
       "\n",
       "    .dataframe tbody tr th {\n",
       "        vertical-align: top;\n",
       "    }\n",
       "\n",
       "    .dataframe thead th {\n",
       "        text-align: right;\n",
       "    }\n",
       "</style>\n",
       "<table border=\"1\" class=\"dataframe\">\n",
       "  <thead>\n",
       "    <tr style=\"text-align: right;\">\n",
       "      <th></th>\n",
       "      <th>Unnamed: 0</th>\n",
       "      <th>BillID</th>\n",
       "      <th>Channel</th>\n",
       "      <th>OrderFrom</th>\n",
       "      <th>TransactionDate</th>\n",
       "      <th>SalesAmount</th>\n",
       "      <th>CustomerID</th>\n",
       "      <th>CustomerGender</th>\n",
       "      <th>VoucherStatus</th>\n",
       "      <th>Province</th>\n",
       "    </tr>\n",
       "  </thead>\n",
       "  <tbody>\n",
       "    <tr>\n",
       "      <th>0</th>\n",
       "      <td>0</td>\n",
       "      <td>0</td>\n",
       "      <td>Take Away</td>\n",
       "      <td>CALL CENTER</td>\n",
       "      <td>2021-10-01 00:00:00+00:00</td>\n",
       "      <td>296891</td>\n",
       "      <td>1753863</td>\n",
       "      <td>Unknown</td>\n",
       "      <td>No</td>\n",
       "      <td>Ho Chi Minh City</td>\n",
       "    </tr>\n",
       "    <tr>\n",
       "      <th>1</th>\n",
       "      <td>1</td>\n",
       "      <td>1</td>\n",
       "      <td>Take Away</td>\n",
       "      <td>STORE</td>\n",
       "      <td>2021-10-01 00:00:00+00:00</td>\n",
       "      <td>301782</td>\n",
       "      <td>1124050</td>\n",
       "      <td>Unknown</td>\n",
       "      <td>No</td>\n",
       "      <td>Hanoi</td>\n",
       "    </tr>\n",
       "    <tr>\n",
       "      <th>2</th>\n",
       "      <td>2</td>\n",
       "      <td>2</td>\n",
       "      <td>Take Away</td>\n",
       "      <td>WEBSITE</td>\n",
       "      <td>2021-10-01 00:00:00+00:00</td>\n",
       "      <td>319792</td>\n",
       "      <td>1626827</td>\n",
       "      <td>Male</td>\n",
       "      <td>No</td>\n",
       "      <td>Hanoi</td>\n",
       "    </tr>\n",
       "    <tr>\n",
       "      <th>3</th>\n",
       "      <td>3</td>\n",
       "      <td>3</td>\n",
       "      <td>Take Away</td>\n",
       "      <td>STORE</td>\n",
       "      <td>2021-10-01 00:00:00+00:00</td>\n",
       "      <td>424762</td>\n",
       "      <td>125643</td>\n",
       "      <td>Male</td>\n",
       "      <td>No</td>\n",
       "      <td>Hanoi</td>\n",
       "    </tr>\n",
       "    <tr>\n",
       "      <th>4</th>\n",
       "      <td>4</td>\n",
       "      <td>4</td>\n",
       "      <td>Delivery</td>\n",
       "      <td>STORE</td>\n",
       "      <td>2021-10-01 00:00:00+00:00</td>\n",
       "      <td>280031</td>\n",
       "      <td>2117237</td>\n",
       "      <td>Unknown</td>\n",
       "      <td>No</td>\n",
       "      <td>Hanoi</td>\n",
       "    </tr>\n",
       "  </tbody>\n",
       "</table>\n",
       "</div>"
      ],
      "text/plain": [
       "   Unnamed: 0  BillID    Channel    OrderFrom            TransactionDate  \\\n",
       "0           0       0  Take Away  CALL CENTER  2021-10-01 00:00:00+00:00   \n",
       "1           1       1  Take Away        STORE  2021-10-01 00:00:00+00:00   \n",
       "2           2       2  Take Away      WEBSITE  2021-10-01 00:00:00+00:00   \n",
       "3           3       3  Take Away        STORE  2021-10-01 00:00:00+00:00   \n",
       "4           4       4   Delivery        STORE  2021-10-01 00:00:00+00:00   \n",
       "\n",
       "   SalesAmount  CustomerID CustomerGender VoucherStatus          Province  \n",
       "0       296891     1753863        Unknown            No  Ho Chi Minh City  \n",
       "1       301782     1124050        Unknown            No             Hanoi  \n",
       "2       319792     1626827           Male            No             Hanoi  \n",
       "3       424762      125643           Male            No             Hanoi  \n",
       "4       280031     2117237        Unknown            No             Hanoi  "
      ]
     },
     "execution_count": 2,
     "metadata": {},
     "output_type": "execute_result"
    }
   ],
   "source": [
    "pizzahutfilepath = r\"C:\\Users\\Acer\\Desktop\\nmtu_class 3\\Class 3 _ Pizzahut - RFM\\De bai\\Round 2 - Data set.xlsx\"\n",
    "pizzahut = pd.read_excel(pizzahutfilepath,sheet_name = 'Purchasing data')\n",
    "pizzahut.head()"
   ]
  },
  {
   "cell_type": "code",
   "execution_count": 3,
   "id": "79a984a3",
   "metadata": {},
   "outputs": [
    {
     "name": "stdout",
     "output_type": "stream",
     "text": [
      "Unnamed: 0          int64\n",
      "BillID              int64\n",
      "Channel            object\n",
      "OrderFrom          object\n",
      "TransactionDate    object\n",
      "SalesAmount         int64\n",
      "CustomerID          int64\n",
      "CustomerGender     object\n",
      "VoucherStatus      object\n",
      "Province           object\n",
      "dtype: object\n"
     ]
    }
   ],
   "source": [
    "# check data type\n",
    "print(pizzahut.dtypes)"
   ]
  },
  {
   "cell_type": "code",
   "execution_count": 4,
   "id": "98f7f4e8",
   "metadata": {},
   "outputs": [
    {
     "name": "stdout",
     "output_type": "stream",
     "text": [
      "Unnamed: 0                       int64\n",
      "BillID                           int64\n",
      "Channel                         string\n",
      "OrderFrom                       string\n",
      "TransactionDate    datetime64[ns, UTC]\n",
      "SalesAmount                      int64\n",
      "CustomerID                       int64\n",
      "CustomerGender                  string\n",
      "VoucherStatus                   string\n",
      "Province                        string\n",
      "dtype: object\n"
     ]
    }
   ],
   "source": [
    "# change type\n",
    "pizzahut = pizzahut.astype({'Channel': 'string', 'OrderFrom': 'string',  'CustomerGender': 'string', 'VoucherStatus': 'string', 'Province': 'string'})\n",
    "pizzahut['TransactionDate'] = pd.to_datetime(pizzahut['TransactionDate'])\n",
    "print(pizzahut.dtypes)"
   ]
  },
  {
   "cell_type": "code",
   "execution_count": 5,
   "id": "c98a5f3d",
   "metadata": {},
   "outputs": [
    {
     "data": {
      "text/plain": [
       "Timestamp('2023-01-10 00:00:00+0000', tz='UTC')"
      ]
     },
     "execution_count": 5,
     "metadata": {},
     "output_type": "execute_result"
    }
   ],
   "source": [
    "# lastest date\n",
    "lastest_date = pizzahut['TransactionDate'].max()\n",
    "# target date is one day after last transaction date\n",
    "target_date = lastest_date + pd.Timedelta(days=1)\n",
    "target_date"
   ]
  },
  {
   "cell_type": "code",
   "execution_count": 6,
   "id": "3d0fa193",
   "metadata": {},
   "outputs": [],
   "source": [
    "# quartile bins\n",
    "qbin = 4"
   ]
  },
  {
   "cell_type": "code",
   "execution_count": 7,
   "id": "a58e5e95",
   "metadata": {},
   "outputs": [
    {
     "data": {
      "text/html": [
       "<div>\n",
       "<style scoped>\n",
       "    .dataframe tbody tr th:only-of-type {\n",
       "        vertical-align: middle;\n",
       "    }\n",
       "\n",
       "    .dataframe tbody tr th {\n",
       "        vertical-align: top;\n",
       "    }\n",
       "\n",
       "    .dataframe thead th {\n",
       "        text-align: right;\n",
       "    }\n",
       "</style>\n",
       "<table border=\"1\" class=\"dataframe\">\n",
       "  <thead>\n",
       "    <tr style=\"text-align: right;\">\n",
       "      <th></th>\n",
       "      <th>CustomerID</th>\n",
       "      <th>LatestTransactionDate</th>\n",
       "    </tr>\n",
       "  </thead>\n",
       "  <tbody>\n",
       "    <tr>\n",
       "      <th>0</th>\n",
       "      <td>0</td>\n",
       "      <td>2021-12-24 00:00:00+00:00</td>\n",
       "    </tr>\n",
       "    <tr>\n",
       "      <th>1</th>\n",
       "      <td>1</td>\n",
       "      <td>2022-03-07 00:00:00+00:00</td>\n",
       "    </tr>\n",
       "    <tr>\n",
       "      <th>2</th>\n",
       "      <td>8</td>\n",
       "      <td>2022-07-11 00:00:00+00:00</td>\n",
       "    </tr>\n",
       "    <tr>\n",
       "      <th>3</th>\n",
       "      <td>16</td>\n",
       "      <td>2022-09-16 00:00:00+00:00</td>\n",
       "    </tr>\n",
       "    <tr>\n",
       "      <th>4</th>\n",
       "      <td>18</td>\n",
       "      <td>2022-01-29 00:00:00+00:00</td>\n",
       "    </tr>\n",
       "  </tbody>\n",
       "</table>\n",
       "</div>"
      ],
      "text/plain": [
       "   CustomerID     LatestTransactionDate\n",
       "0           0 2021-12-24 00:00:00+00:00\n",
       "1           1 2022-03-07 00:00:00+00:00\n",
       "2           8 2022-07-11 00:00:00+00:00\n",
       "3          16 2022-09-16 00:00:00+00:00\n",
       "4          18 2022-01-29 00:00:00+00:00"
      ]
     },
     "execution_count": 7,
     "metadata": {},
     "output_type": "execute_result"
    }
   ],
   "source": [
    "# recency df\n",
    "recency = pizzahut.groupby('CustomerID')['TransactionDate'].agg('max').reset_index()\n",
    "recency.columns = ['CustomerID', 'LatestTransactionDate']\n",
    "recency.head()"
   ]
  },
  {
   "cell_type": "code",
   "execution_count": 8,
   "id": "21846950",
   "metadata": {},
   "outputs": [
    {
     "data": {
      "text/html": [
       "<div>\n",
       "<style scoped>\n",
       "    .dataframe tbody tr th:only-of-type {\n",
       "        vertical-align: middle;\n",
       "    }\n",
       "\n",
       "    .dataframe tbody tr th {\n",
       "        vertical-align: top;\n",
       "    }\n",
       "\n",
       "    .dataframe thead th {\n",
       "        text-align: right;\n",
       "    }\n",
       "</style>\n",
       "<table border=\"1\" class=\"dataframe\">\n",
       "  <thead>\n",
       "    <tr style=\"text-align: right;\">\n",
       "      <th></th>\n",
       "      <th>CustomerID</th>\n",
       "      <th>LatestTransactionDate</th>\n",
       "      <th>DaysSinceLastTransaction</th>\n",
       "    </tr>\n",
       "  </thead>\n",
       "  <tbody>\n",
       "    <tr>\n",
       "      <th>0</th>\n",
       "      <td>0</td>\n",
       "      <td>2021-12-24 00:00:00+00:00</td>\n",
       "      <td>382</td>\n",
       "    </tr>\n",
       "    <tr>\n",
       "      <th>1</th>\n",
       "      <td>1</td>\n",
       "      <td>2022-03-07 00:00:00+00:00</td>\n",
       "      <td>309</td>\n",
       "    </tr>\n",
       "    <tr>\n",
       "      <th>2</th>\n",
       "      <td>8</td>\n",
       "      <td>2022-07-11 00:00:00+00:00</td>\n",
       "      <td>183</td>\n",
       "    </tr>\n",
       "    <tr>\n",
       "      <th>3</th>\n",
       "      <td>16</td>\n",
       "      <td>2022-09-16 00:00:00+00:00</td>\n",
       "      <td>116</td>\n",
       "    </tr>\n",
       "    <tr>\n",
       "      <th>4</th>\n",
       "      <td>18</td>\n",
       "      <td>2022-01-29 00:00:00+00:00</td>\n",
       "      <td>346</td>\n",
       "    </tr>\n",
       "  </tbody>\n",
       "</table>\n",
       "</div>"
      ],
      "text/plain": [
       "   CustomerID     LatestTransactionDate  DaysSinceLastTransaction\n",
       "0           0 2021-12-24 00:00:00+00:00                       382\n",
       "1           1 2022-03-07 00:00:00+00:00                       309\n",
       "2           8 2022-07-11 00:00:00+00:00                       183\n",
       "3          16 2022-09-16 00:00:00+00:00                       116\n",
       "4          18 2022-01-29 00:00:00+00:00                       346"
      ]
     },
     "execution_count": 8,
     "metadata": {},
     "output_type": "execute_result"
    }
   ],
   "source": [
    "# days from last transaction\n",
    "recency['DaysSinceLastTransaction'] = (target_date - recency['LatestTransactionDate']).dt.days\n",
    "recency.head()"
   ]
  },
  {
   "cell_type": "code",
   "execution_count": 9,
   "id": "a3fb9bfe",
   "metadata": {},
   "outputs": [
    {
     "data": {
      "text/plain": [
       "count    583642.000000\n",
       "mean        220.832868\n",
       "std         135.498886\n",
       "min           1.000000\n",
       "25%         102.000000\n",
       "50%         218.000000\n",
       "75%         337.000000\n",
       "max         466.000000\n",
       "Name: DaysSinceLastTransaction, dtype: float64"
      ]
     },
     "execution_count": 9,
     "metadata": {},
     "output_type": "execute_result"
    }
   ],
   "source": [
    "recency['DaysSinceLastTransaction'].describe()"
   ]
  },
  {
   "cell_type": "code",
   "execution_count": 10,
   "id": "e7cd0d3b",
   "metadata": {},
   "outputs": [
    {
     "data": {
      "text/html": [
       "<div>\n",
       "<style scoped>\n",
       "    .dataframe tbody tr th:only-of-type {\n",
       "        vertical-align: middle;\n",
       "    }\n",
       "\n",
       "    .dataframe tbody tr th {\n",
       "        vertical-align: top;\n",
       "    }\n",
       "\n",
       "    .dataframe thead th {\n",
       "        text-align: right;\n",
       "    }\n",
       "</style>\n",
       "<table border=\"1\" class=\"dataframe\">\n",
       "  <thead>\n",
       "    <tr style=\"text-align: right;\">\n",
       "      <th></th>\n",
       "      <th>CustomerID</th>\n",
       "      <th>LatestTransactionDate</th>\n",
       "      <th>DaysSinceLastTransaction</th>\n",
       "      <th>R</th>\n",
       "    </tr>\n",
       "  </thead>\n",
       "  <tbody>\n",
       "    <tr>\n",
       "      <th>0</th>\n",
       "      <td>0</td>\n",
       "      <td>2021-12-24 00:00:00+00:00</td>\n",
       "      <td>382</td>\n",
       "      <td>3</td>\n",
       "    </tr>\n",
       "    <tr>\n",
       "      <th>1</th>\n",
       "      <td>1</td>\n",
       "      <td>2022-03-07 00:00:00+00:00</td>\n",
       "      <td>309</td>\n",
       "      <td>2</td>\n",
       "    </tr>\n",
       "    <tr>\n",
       "      <th>2</th>\n",
       "      <td>8</td>\n",
       "      <td>2022-07-11 00:00:00+00:00</td>\n",
       "      <td>183</td>\n",
       "      <td>1</td>\n",
       "    </tr>\n",
       "    <tr>\n",
       "      <th>3</th>\n",
       "      <td>16</td>\n",
       "      <td>2022-09-16 00:00:00+00:00</td>\n",
       "      <td>116</td>\n",
       "      <td>1</td>\n",
       "    </tr>\n",
       "    <tr>\n",
       "      <th>4</th>\n",
       "      <td>18</td>\n",
       "      <td>2022-01-29 00:00:00+00:00</td>\n",
       "      <td>346</td>\n",
       "      <td>3</td>\n",
       "    </tr>\n",
       "  </tbody>\n",
       "</table>\n",
       "</div>"
      ],
      "text/plain": [
       "   CustomerID     LatestTransactionDate  DaysSinceLastTransaction  R\n",
       "0           0 2021-12-24 00:00:00+00:00                       382  3\n",
       "1           1 2022-03-07 00:00:00+00:00                       309  2\n",
       "2           8 2022-07-11 00:00:00+00:00                       183  1\n",
       "3          16 2022-09-16 00:00:00+00:00                       116  1\n",
       "4          18 2022-01-29 00:00:00+00:00                       346  3"
      ]
     },
     "execution_count": 10,
     "metadata": {},
     "output_type": "execute_result"
    }
   ],
   "source": [
    "# calculate R score\n",
    "recency['R'] = pd.qcut(recency['DaysSinceLastTransaction'],q=qbin,labels=False)\n",
    "recency.head()"
   ]
  },
  {
   "cell_type": "code",
   "execution_count": 21,
   "id": "53975469",
   "metadata": {},
   "outputs": [
    {
     "data": {
      "text/html": [
       "<div>\n",
       "<style scoped>\n",
       "    .dataframe tbody tr th:only-of-type {\n",
       "        vertical-align: middle;\n",
       "    }\n",
       "\n",
       "    .dataframe tbody tr th {\n",
       "        vertical-align: top;\n",
       "    }\n",
       "\n",
       "    .dataframe thead th {\n",
       "        text-align: right;\n",
       "    }\n",
       "</style>\n",
       "<table border=\"1\" class=\"dataframe\">\n",
       "  <thead>\n",
       "    <tr style=\"text-align: right;\">\n",
       "      <th></th>\n",
       "      <th>CustomerID</th>\n",
       "      <th>Frequency</th>\n",
       "    </tr>\n",
       "  </thead>\n",
       "  <tbody>\n",
       "    <tr>\n",
       "      <th>0</th>\n",
       "      <td>0</td>\n",
       "      <td>1</td>\n",
       "    </tr>\n",
       "    <tr>\n",
       "      <th>1</th>\n",
       "      <td>1</td>\n",
       "      <td>1</td>\n",
       "    </tr>\n",
       "    <tr>\n",
       "      <th>2</th>\n",
       "      <td>8</td>\n",
       "      <td>1</td>\n",
       "    </tr>\n",
       "    <tr>\n",
       "      <th>3</th>\n",
       "      <td>16</td>\n",
       "      <td>1</td>\n",
       "    </tr>\n",
       "    <tr>\n",
       "      <th>4</th>\n",
       "      <td>18</td>\n",
       "      <td>1</td>\n",
       "    </tr>\n",
       "  </tbody>\n",
       "</table>\n",
       "</div>"
      ],
      "text/plain": [
       "   CustomerID  Frequency\n",
       "0           0          1\n",
       "1           1          1\n",
       "2           8          1\n",
       "3          16          1\n",
       "4          18          1"
      ]
     },
     "execution_count": 21,
     "metadata": {},
     "output_type": "execute_result"
    }
   ],
   "source": [
    "# frequency df\n",
    "frequency = pizzahut.groupby('CustomerID')['BillID'].size().reset_index()\n",
    "frequency.columns = ['CustomerID', 'Frequency']\n",
    "frequency.head()"
   ]
  },
  {
   "cell_type": "code",
   "execution_count": 22,
   "id": "d47b304e",
   "metadata": {},
   "outputs": [
    {
     "data": {
      "text/plain": [
       "count    583642.000000\n",
       "mean          1.796606\n",
       "std           2.269033\n",
       "min           1.000000\n",
       "25%           1.000000\n",
       "50%           1.000000\n",
       "75%           2.000000\n",
       "max         238.000000\n",
       "Name: Frequency, dtype: float64"
      ]
     },
     "execution_count": 22,
     "metadata": {},
     "output_type": "execute_result"
    }
   ],
   "source": [
    "# check values of frequency\n",
    "frequency['Frequency'].describe()"
   ]
  },
  {
   "cell_type": "code",
   "execution_count": 23,
   "id": "3424a5db",
   "metadata": {},
   "outputs": [
    {
     "data": {
      "text/html": [
       "<div>\n",
       "<style scoped>\n",
       "    .dataframe tbody tr th:only-of-type {\n",
       "        vertical-align: middle;\n",
       "    }\n",
       "\n",
       "    .dataframe tbody tr th {\n",
       "        vertical-align: top;\n",
       "    }\n",
       "\n",
       "    .dataframe thead th {\n",
       "        text-align: right;\n",
       "    }\n",
       "</style>\n",
       "<table border=\"1\" class=\"dataframe\">\n",
       "  <thead>\n",
       "    <tr style=\"text-align: right;\">\n",
       "      <th></th>\n",
       "      <th>CustomerID</th>\n",
       "      <th>Frequency</th>\n",
       "      <th>F</th>\n",
       "    </tr>\n",
       "  </thead>\n",
       "  <tbody>\n",
       "    <tr>\n",
       "      <th>0</th>\n",
       "      <td>0</td>\n",
       "      <td>1</td>\n",
       "      <td>1</td>\n",
       "    </tr>\n",
       "    <tr>\n",
       "      <th>1</th>\n",
       "      <td>1</td>\n",
       "      <td>1</td>\n",
       "      <td>1</td>\n",
       "    </tr>\n",
       "    <tr>\n",
       "      <th>2</th>\n",
       "      <td>8</td>\n",
       "      <td>1</td>\n",
       "      <td>1</td>\n",
       "    </tr>\n",
       "    <tr>\n",
       "      <th>3</th>\n",
       "      <td>16</td>\n",
       "      <td>1</td>\n",
       "      <td>1</td>\n",
       "    </tr>\n",
       "    <tr>\n",
       "      <th>4</th>\n",
       "      <td>18</td>\n",
       "      <td>1</td>\n",
       "      <td>1</td>\n",
       "    </tr>\n",
       "  </tbody>\n",
       "</table>\n",
       "</div>"
      ],
      "text/plain": [
       "   CustomerID  Frequency  F\n",
       "0           0          1  1\n",
       "1           1          1  1\n",
       "2           8          1  1\n",
       "3          16          1  1\n",
       "4          18          1  1"
      ]
     },
     "execution_count": 23,
     "metadata": {},
     "output_type": "execute_result"
    }
   ],
   "source": [
    "# calculate F score\n",
    "frequency['F'] = frequency['Frequency'].apply(lambda x: 1 if x == 1 else (3 if x > 1 else (4 if x > 2 else None)))\n",
    "frequency.head()"
   ]
  },
  {
   "cell_type": "code",
   "execution_count": 24,
   "id": "18082ceb",
   "metadata": {},
   "outputs": [
    {
     "data": {
      "text/html": [
       "<div>\n",
       "<style scoped>\n",
       "    .dataframe tbody tr th:only-of-type {\n",
       "        vertical-align: middle;\n",
       "    }\n",
       "\n",
       "    .dataframe tbody tr th {\n",
       "        vertical-align: top;\n",
       "    }\n",
       "\n",
       "    .dataframe thead th {\n",
       "        text-align: right;\n",
       "    }\n",
       "</style>\n",
       "<table border=\"1\" class=\"dataframe\">\n",
       "  <thead>\n",
       "    <tr style=\"text-align: right;\">\n",
       "      <th></th>\n",
       "      <th>CustomerID</th>\n",
       "      <th>SalesAmount</th>\n",
       "    </tr>\n",
       "  </thead>\n",
       "  <tbody>\n",
       "    <tr>\n",
       "      <th>0</th>\n",
       "      <td>0</td>\n",
       "      <td>411663</td>\n",
       "    </tr>\n",
       "    <tr>\n",
       "      <th>1</th>\n",
       "      <td>1</td>\n",
       "      <td>105503</td>\n",
       "    </tr>\n",
       "    <tr>\n",
       "      <th>2</th>\n",
       "      <td>8</td>\n",
       "      <td>1098496</td>\n",
       "    </tr>\n",
       "    <tr>\n",
       "      <th>3</th>\n",
       "      <td>16</td>\n",
       "      <td>286558</td>\n",
       "    </tr>\n",
       "    <tr>\n",
       "      <th>4</th>\n",
       "      <td>18</td>\n",
       "      <td>287492</td>\n",
       "    </tr>\n",
       "  </tbody>\n",
       "</table>\n",
       "</div>"
      ],
      "text/plain": [
       "   CustomerID  SalesAmount\n",
       "0           0       411663\n",
       "1           1       105503\n",
       "2           8      1098496\n",
       "3          16       286558\n",
       "4          18       287492"
      ]
     },
     "execution_count": 24,
     "metadata": {},
     "output_type": "execute_result"
    }
   ],
   "source": [
    "# monetary df\n",
    "monetary = pizzahut.groupby('CustomerID')['SalesAmount'].sum().reset_index()\n",
    "monetary.head()"
   ]
  },
  {
   "cell_type": "code",
   "execution_count": 25,
   "id": "36eab07f",
   "metadata": {},
   "outputs": [
    {
     "data": {
      "text/plain": [
       "count    5.836420e+05\n",
       "mean     5.477354e+05\n",
       "std      8.803920e+05\n",
       "min      7.148000e+03\n",
       "25%      2.012890e+05\n",
       "50%      3.118160e+05\n",
       "75%      5.674812e+05\n",
       "max      1.337745e+08\n",
       "Name: SalesAmount, dtype: float64"
      ]
     },
     "execution_count": 25,
     "metadata": {},
     "output_type": "execute_result"
    }
   ],
   "source": [
    "# check values of money\n",
    "monetary['SalesAmount'].describe()"
   ]
  },
  {
   "cell_type": "code",
   "execution_count": 26,
   "id": "0d2bbb84",
   "metadata": {},
   "outputs": [],
   "source": [
    "mq1, mq2, mq3 = monetary['SalesAmount'].describe()[['25%', '50%', '75%']]"
   ]
  },
  {
   "cell_type": "code",
   "execution_count": 27,
   "id": "1e101577",
   "metadata": {},
   "outputs": [
    {
     "data": {
      "text/html": [
       "<div>\n",
       "<style scoped>\n",
       "    .dataframe tbody tr th:only-of-type {\n",
       "        vertical-align: middle;\n",
       "    }\n",
       "\n",
       "    .dataframe tbody tr th {\n",
       "        vertical-align: top;\n",
       "    }\n",
       "\n",
       "    .dataframe thead th {\n",
       "        text-align: right;\n",
       "    }\n",
       "</style>\n",
       "<table border=\"1\" class=\"dataframe\">\n",
       "  <thead>\n",
       "    <tr style=\"text-align: right;\">\n",
       "      <th></th>\n",
       "      <th>CustomerID</th>\n",
       "      <th>SalesAmount</th>\n",
       "      <th>M</th>\n",
       "    </tr>\n",
       "  </thead>\n",
       "  <tbody>\n",
       "    <tr>\n",
       "      <th>0</th>\n",
       "      <td>0</td>\n",
       "      <td>411663</td>\n",
       "      <td>3</td>\n",
       "    </tr>\n",
       "    <tr>\n",
       "      <th>1</th>\n",
       "      <td>1</td>\n",
       "      <td>105503</td>\n",
       "      <td>1</td>\n",
       "    </tr>\n",
       "    <tr>\n",
       "      <th>2</th>\n",
       "      <td>8</td>\n",
       "      <td>1098496</td>\n",
       "      <td>4</td>\n",
       "    </tr>\n",
       "    <tr>\n",
       "      <th>3</th>\n",
       "      <td>16</td>\n",
       "      <td>286558</td>\n",
       "      <td>2</td>\n",
       "    </tr>\n",
       "    <tr>\n",
       "      <th>4</th>\n",
       "      <td>18</td>\n",
       "      <td>287492</td>\n",
       "      <td>2</td>\n",
       "    </tr>\n",
       "  </tbody>\n",
       "</table>\n",
       "</div>"
      ],
      "text/plain": [
       "   CustomerID  SalesAmount  M\n",
       "0           0       411663  3\n",
       "1           1       105503  1\n",
       "2           8      1098496  4\n",
       "3          16       286558  2\n",
       "4          18       287492  2"
      ]
     },
     "execution_count": 27,
     "metadata": {},
     "output_type": "execute_result"
    }
   ],
   "source": [
    "# calculate M score\n",
    "monetary['M'] = monetary['SalesAmount'].apply(lambda x: 1 if x < mq1 else (2 if mq1 <= x < mq2 else (3 if mq2 <= x < mq3 else 4)))\n",
    "monetary.head()"
   ]
  },
  {
   "cell_type": "code",
   "execution_count": 28,
   "id": "bf82bc7e",
   "metadata": {},
   "outputs": [
    {
     "data": {
      "text/html": [
       "<div>\n",
       "<style scoped>\n",
       "    .dataframe tbody tr th:only-of-type {\n",
       "        vertical-align: middle;\n",
       "    }\n",
       "\n",
       "    .dataframe tbody tr th {\n",
       "        vertical-align: top;\n",
       "    }\n",
       "\n",
       "    .dataframe thead th {\n",
       "        text-align: right;\n",
       "    }\n",
       "</style>\n",
       "<table border=\"1\" class=\"dataframe\">\n",
       "  <thead>\n",
       "    <tr style=\"text-align: right;\">\n",
       "      <th></th>\n",
       "      <th>CustomerID</th>\n",
       "      <th>R</th>\n",
       "      <th>F</th>\n",
       "      <th>M</th>\n",
       "    </tr>\n",
       "  </thead>\n",
       "  <tbody>\n",
       "    <tr>\n",
       "      <th>0</th>\n",
       "      <td>0</td>\n",
       "      <td>3</td>\n",
       "      <td>1</td>\n",
       "      <td>3</td>\n",
       "    </tr>\n",
       "    <tr>\n",
       "      <th>1</th>\n",
       "      <td>1</td>\n",
       "      <td>2</td>\n",
       "      <td>1</td>\n",
       "      <td>1</td>\n",
       "    </tr>\n",
       "    <tr>\n",
       "      <th>2</th>\n",
       "      <td>8</td>\n",
       "      <td>1</td>\n",
       "      <td>1</td>\n",
       "      <td>4</td>\n",
       "    </tr>\n",
       "    <tr>\n",
       "      <th>3</th>\n",
       "      <td>16</td>\n",
       "      <td>1</td>\n",
       "      <td>1</td>\n",
       "      <td>2</td>\n",
       "    </tr>\n",
       "    <tr>\n",
       "      <th>4</th>\n",
       "      <td>18</td>\n",
       "      <td>3</td>\n",
       "      <td>1</td>\n",
       "      <td>2</td>\n",
       "    </tr>\n",
       "  </tbody>\n",
       "</table>\n",
       "</div>"
      ],
      "text/plain": [
       "   CustomerID  R  F  M\n",
       "0           0  3  1  3\n",
       "1           1  2  1  1\n",
       "2           8  1  1  4\n",
       "3          16  1  1  2\n",
       "4          18  3  1  2"
      ]
     },
     "execution_count": 28,
     "metadata": {},
     "output_type": "execute_result"
    }
   ],
   "source": [
    "# join 3 df\n",
    "rfm = pd.merge(recency[['CustomerID', 'R']], frequency[['CustomerID', 'F']], on='CustomerID')\n",
    "rfm = pd.merge(rfm, monetary[['CustomerID', 'M']], on='CustomerID')\n",
    "rfm.head()"
   ]
  },
  {
   "cell_type": "code",
   "execution_count": 29,
   "id": "ae156f5a",
   "metadata": {},
   "outputs": [
    {
     "data": {
      "text/html": [
       "<div>\n",
       "<style scoped>\n",
       "    .dataframe tbody tr th:only-of-type {\n",
       "        vertical-align: middle;\n",
       "    }\n",
       "\n",
       "    .dataframe tbody tr th {\n",
       "        vertical-align: top;\n",
       "    }\n",
       "\n",
       "    .dataframe thead th {\n",
       "        text-align: right;\n",
       "    }\n",
       "</style>\n",
       "<table border=\"1\" class=\"dataframe\">\n",
       "  <thead>\n",
       "    <tr style=\"text-align: right;\">\n",
       "      <th></th>\n",
       "      <th>CustomerID</th>\n",
       "      <th>R</th>\n",
       "      <th>F</th>\n",
       "      <th>M</th>\n",
       "      <th>RFM</th>\n",
       "    </tr>\n",
       "  </thead>\n",
       "  <tbody>\n",
       "    <tr>\n",
       "      <th>0</th>\n",
       "      <td>0</td>\n",
       "      <td>3</td>\n",
       "      <td>1</td>\n",
       "      <td>3</td>\n",
       "      <td>313</td>\n",
       "    </tr>\n",
       "    <tr>\n",
       "      <th>1</th>\n",
       "      <td>1</td>\n",
       "      <td>2</td>\n",
       "      <td>1</td>\n",
       "      <td>1</td>\n",
       "      <td>211</td>\n",
       "    </tr>\n",
       "    <tr>\n",
       "      <th>2</th>\n",
       "      <td>8</td>\n",
       "      <td>1</td>\n",
       "      <td>1</td>\n",
       "      <td>4</td>\n",
       "      <td>114</td>\n",
       "    </tr>\n",
       "    <tr>\n",
       "      <th>3</th>\n",
       "      <td>16</td>\n",
       "      <td>1</td>\n",
       "      <td>1</td>\n",
       "      <td>2</td>\n",
       "      <td>112</td>\n",
       "    </tr>\n",
       "    <tr>\n",
       "      <th>4</th>\n",
       "      <td>18</td>\n",
       "      <td>3</td>\n",
       "      <td>1</td>\n",
       "      <td>2</td>\n",
       "      <td>312</td>\n",
       "    </tr>\n",
       "  </tbody>\n",
       "</table>\n",
       "</div>"
      ],
      "text/plain": [
       "   CustomerID  R  F  M  RFM\n",
       "0           0  3  1  3  313\n",
       "1           1  2  1  1  211\n",
       "2           8  1  1  4  114\n",
       "3          16  1  1  2  112\n",
       "4          18  3  1  2  312"
      ]
     },
     "execution_count": 29,
     "metadata": {},
     "output_type": "execute_result"
    }
   ],
   "source": [
    "# concat to RFM column\n",
    "rfm['RFM'] = pd.concat([rfm['R'], rfm['F'], rfm['M']], axis=1).astype(str).agg(''.join, axis=1)\n",
    "rfm.head()"
   ]
  }
 ],
 "metadata": {
  "kernelspec": {
   "display_name": "Python 3 (ipykernel)",
   "language": "python",
   "name": "python3"
  },
  "language_info": {
   "codemirror_mode": {
    "name": "ipython",
    "version": 3
   },
   "file_extension": ".py",
   "mimetype": "text/x-python",
   "name": "python",
   "nbconvert_exporter": "python",
   "pygments_lexer": "ipython3",
   "version": "3.9.7"
  }
 },
 "nbformat": 4,
 "nbformat_minor": 5
}
